{
  "nbformat": 4,
  "nbformat_minor": 0,
  "metadata": {
    "colab": {
      "name": "G_Semantic_Segmentation_v2_[student](1).ipynb",
      "provenance": [],
      "collapsed_sections": [],
      "toc_visible": true,
      "machine_shape": "hm"
    },
    "kernelspec": {
      "name": "python3",
      "display_name": "Python 3"
    },
    "accelerator": "GPU"
  },
  "cells": [
    {
      "cell_type": "markdown",
      "metadata": {
        "id": "P2F_P3bjPdaJ"
      },
      "source": [
        "# Semantic Segmentation v2\n",
        "Implement FCN-32s architecture for semantic segmentation.\n",
        "\n",
        "[Paper](https://www.cv-foundation.org/openaccess/content_cvpr_2015/papers/Long_Fully_Convolutional_Networks_2015_CVPR_paper.pdf)"
      ]
    },
    {
      "cell_type": "markdown",
      "metadata": {
        "id": "DZLMITeXnyr9"
      },
      "source": [
        "## Download and load data:"
      ]
    },
    {
      "cell_type": "code",
      "metadata": {
        "id": "W2XMKU9lc39T",
        "colab": {
          "base_uri": "https://localhost:8080/"
        },
        "outputId": "31e3a3c1-ee51-4421-abe3-5b28b0438390"
      },
      "source": [
        "# !wget https://www.mimuw.edu.pl/~bilinski/VRNN2020/labs/datasets/segmentation.npz"
      ],
      "execution_count": 1,
      "outputs": [
        {
          "output_type": "stream",
          "text": [
            "--2021-01-14 00:35:10--  https://www.mimuw.edu.pl/~bilinski/VRNN2020/labs/datasets/segmentation.npz\n",
            "Resolving www.mimuw.edu.pl (www.mimuw.edu.pl)... 193.0.96.14\n",
            "Connecting to www.mimuw.edu.pl (www.mimuw.edu.pl)|193.0.96.14|:443... connected.\n",
            "HTTP request sent, awaiting response... 200 OK\n",
            "Length: 307552213 (293M)\n",
            "Saving to: ‘segmentation.npz.5’\n",
            "\n",
            "segmentation.npz.5  100%[===================>] 293.30M  4.38MB/s    in 75s     \n",
            "\n",
            "2021-01-14 00:36:27 (3.91 MB/s) - ‘segmentation.npz.5’ saved [307552213/307552213]\n",
            "\n"
          ],
          "name": "stdout"
        }
      ]
    },
    {
      "cell_type": "code",
      "metadata": {
        "id": "QNngzd3eSoIF"
      },
      "source": [
        "# Data is already preprocessed for VGG16, just load it.\n",
        "import numpy as np\n",
        "data = np.load('segmentation.npz')\n",
        "train_x, train_y, test_x, test_y = data['train_x'], data['train_y'], data['test_x'], data['test_y']\n",
        "del data"
      ],
      "execution_count": 2,
      "outputs": []
    },
    {
      "cell_type": "markdown",
      "metadata": {
        "id": "MBn4TPr3WCQh"
      },
      "source": [
        "## Architecture to implement:\n",
        "\n",
        "Visualization: FCN32s.png\n",
        "\n",
        "- VGG16\n",
        "\n",
        "- Conv2D, 7x7, 4096, relu, same\n",
        "\n",
        "- Dropout 0.5\n",
        "\n",
        "- Conv2D, 1x1, 4096, relu, same\n",
        "\n",
        "- Dropout 0.5\n",
        "\n",
        "- Conv2D nb_classes 1x1\n",
        "\n",
        "- x = Conv2DTranspose(filters=nb_classes, kernel_size=(64, 64), strides=(33, 32), padding='same', activation='sigmoid')(x)\n",
        "\n",
        "- Cropping2D"
      ]
    },
    {
      "cell_type": "code",
      "metadata": {
        "id": "saijjqlFenyJ"
      },
      "source": [
        "import numpy as np\n",
        "from tensorflow.keras.applications.vgg16 import VGG16\n",
        "from tensorflow.keras.models import Model\n",
        "from tensorflow.keras.layers import Input, Conv2D, Dropout, Conv2DTranspose, Cropping2D\n",
        "from tensorflow.keras.optimizers import Adadelta, SGD\n",
        "\n",
        "nb_classes = 12\n",
        "inputs = Input(shape=(360, 480, 3))\n",
        "x = VGG16(weights='imagenet', include_top=False, input_tensor=inputs)\n",
        "x = Conv2D(4096, (7,7), padding='same', activation='relu')(x.output)\n",
        "x = Dropout(0.5)(x)\n",
        "x = Conv2D(4096, (1,1), padding='same', activation='relu')(x)\n",
        "x = Dropout(0.5)(x)\n",
        "x = Conv2D(nb_classes, (1,1), padding='same', activation='relu')(x)\n",
        "x = Conv2DTranspose(filters=nb_classes, kernel_size=(64, 64), strides=(33, 32), padding='same', activation='sigmoid')(x)\n",
        "x = Cropping2D(cropping=((1,2), (0, 0)))(x)\n",
        "\n",
        "model = Model(inputs=inputs, outputs=x)\n",
        "\n",
        "for layer in model.layers[:15]:\n",
        "  layer.trainable=False\n",
        "\n",
        "model.compile(loss='binary_crossentropy', optimizer=SGD(learning_rate=0.3), metrics=['acc'])"
      ],
      "execution_count": 3,
      "outputs": []
    },
    {
      "cell_type": "code",
      "metadata": {
        "id": "cymIxl5eSoj8",
        "colab": {
          "base_uri": "https://localhost:8080/"
        },
        "outputId": "c078f6ec-a315-4712-f0b5-835920c07f47"
      },
      "source": [
        "# Use fit or fit_generator\n",
        "from tensorflow.keras.preprocessing.image import ImageDataGenerator\n",
        "\n",
        "train_datagen = ImageDataGenerator()\n",
        "val_datagen = ImageDataGenerator()\n",
        "\n",
        "model.fit(train_datagen.flow(train_x, train_y, batch_size=3), epochs=65, shuffle=True, validation_data=(test_x,test_y))"
      ],
      "execution_count": 4,
      "outputs": [
        {
          "output_type": "stream",
          "text": [
            "Epoch 1/65\n",
            "123/123 [==============================] - 33s 248ms/step - loss: 0.3834 - acc: 0.3355 - val_loss: 0.1366 - val_acc: 0.6338\n",
            "Epoch 2/65\n",
            "123/123 [==============================] - 26s 211ms/step - loss: 0.1132 - acc: 0.7291 - val_loss: 0.1038 - val_acc: 0.7642\n",
            "Epoch 3/65\n",
            "123/123 [==============================] - 26s 211ms/step - loss: 0.0883 - acc: 0.7966 - val_loss: 0.0925 - val_acc: 0.7865\n",
            "Epoch 4/65\n",
            "123/123 [==============================] - 26s 211ms/step - loss: 0.0769 - acc: 0.8255 - val_loss: 0.0795 - val_acc: 0.8278\n",
            "Epoch 5/65\n",
            "123/123 [==============================] - 26s 211ms/step - loss: 0.0700 - acc: 0.8427 - val_loss: 0.0710 - val_acc: 0.8501\n",
            "Epoch 6/65\n",
            "123/123 [==============================] - 26s 211ms/step - loss: 0.0663 - acc: 0.8508 - val_loss: 0.0687 - val_acc: 0.8521\n",
            "Epoch 7/65\n",
            "123/123 [==============================] - 26s 211ms/step - loss: 0.0618 - acc: 0.8600 - val_loss: 0.0681 - val_acc: 0.8502\n",
            "Epoch 8/65\n",
            "123/123 [==============================] - 26s 211ms/step - loss: 0.0585 - acc: 0.8700 - val_loss: 0.0668 - val_acc: 0.8507\n",
            "Epoch 9/65\n",
            "123/123 [==============================] - 26s 211ms/step - loss: 0.0572 - acc: 0.8725 - val_loss: 0.0630 - val_acc: 0.8551\n",
            "Epoch 10/65\n",
            "123/123 [==============================] - 26s 211ms/step - loss: 0.0560 - acc: 0.8742 - val_loss: 0.0656 - val_acc: 0.8516\n",
            "Epoch 11/65\n",
            "123/123 [==============================] - 26s 211ms/step - loss: 0.0557 - acc: 0.8742 - val_loss: 0.0628 - val_acc: 0.8593\n",
            "Epoch 12/65\n",
            "123/123 [==============================] - 26s 211ms/step - loss: 0.0521 - acc: 0.8828 - val_loss: 0.0658 - val_acc: 0.8513\n",
            "Epoch 13/65\n",
            "123/123 [==============================] - 26s 211ms/step - loss: 0.0512 - acc: 0.8853 - val_loss: 0.0604 - val_acc: 0.8621\n",
            "Epoch 14/65\n",
            "123/123 [==============================] - 26s 211ms/step - loss: 0.0492 - acc: 0.8902 - val_loss: 0.0577 - val_acc: 0.8679\n",
            "Epoch 15/65\n",
            "123/123 [==============================] - 26s 211ms/step - loss: 0.0496 - acc: 0.8895 - val_loss: 0.0646 - val_acc: 0.8515\n",
            "Epoch 16/65\n",
            "123/123 [==============================] - 26s 211ms/step - loss: 0.0466 - acc: 0.8962 - val_loss: 0.0599 - val_acc: 0.8689\n",
            "Epoch 17/65\n",
            "123/123 [==============================] - 26s 211ms/step - loss: 0.0460 - acc: 0.8970 - val_loss: 0.0586 - val_acc: 0.8660\n",
            "Epoch 18/65\n",
            "123/123 [==============================] - 26s 211ms/step - loss: 0.0451 - acc: 0.8994 - val_loss: 0.0588 - val_acc: 0.8729\n",
            "Epoch 19/65\n",
            "123/123 [==============================] - 26s 211ms/step - loss: 0.0444 - acc: 0.9007 - val_loss: 0.0583 - val_acc: 0.8743\n",
            "Epoch 20/65\n",
            "123/123 [==============================] - 26s 211ms/step - loss: 0.0453 - acc: 0.8981 - val_loss: 0.0556 - val_acc: 0.8765\n",
            "Epoch 21/65\n",
            "123/123 [==============================] - 26s 211ms/step - loss: 0.0418 - acc: 0.9072 - val_loss: 0.0563 - val_acc: 0.8716\n",
            "Epoch 22/65\n",
            "123/123 [==============================] - 26s 211ms/step - loss: 0.0427 - acc: 0.9048 - val_loss: 0.0550 - val_acc: 0.8748\n",
            "Epoch 23/65\n",
            "123/123 [==============================] - 26s 211ms/step - loss: 0.0406 - acc: 0.9097 - val_loss: 0.0594 - val_acc: 0.8768\n",
            "Epoch 24/65\n",
            "123/123 [==============================] - 26s 211ms/step - loss: 0.0407 - acc: 0.9095 - val_loss: 0.0542 - val_acc: 0.8790\n",
            "Epoch 25/65\n",
            "123/123 [==============================] - 26s 211ms/step - loss: 0.0402 - acc: 0.9106 - val_loss: 0.0586 - val_acc: 0.8752\n",
            "Epoch 26/65\n",
            "123/123 [==============================] - 26s 211ms/step - loss: 0.0400 - acc: 0.9110 - val_loss: 0.0539 - val_acc: 0.8791\n",
            "Epoch 27/65\n",
            "123/123 [==============================] - 26s 212ms/step - loss: 0.0397 - acc: 0.9111 - val_loss: 0.0535 - val_acc: 0.8823\n",
            "Epoch 28/65\n",
            "123/123 [==============================] - 26s 211ms/step - loss: 0.0383 - acc: 0.9146 - val_loss: 0.0567 - val_acc: 0.8752\n",
            "Epoch 29/65\n",
            "123/123 [==============================] - 26s 211ms/step - loss: 0.0383 - acc: 0.9144 - val_loss: 0.0535 - val_acc: 0.8786\n",
            "Epoch 30/65\n",
            "123/123 [==============================] - 26s 211ms/step - loss: 0.0383 - acc: 0.9140 - val_loss: 0.0527 - val_acc: 0.8824\n",
            "Epoch 31/65\n",
            "123/123 [==============================] - 26s 211ms/step - loss: 0.0369 - acc: 0.9170 - val_loss: 0.0541 - val_acc: 0.8813\n",
            "Epoch 32/65\n",
            "123/123 [==============================] - 26s 211ms/step - loss: 0.0374 - acc: 0.9165 - val_loss: 0.0544 - val_acc: 0.8826\n",
            "Epoch 33/65\n",
            "123/123 [==============================] - 26s 211ms/step - loss: 0.0373 - acc: 0.9155 - val_loss: 0.0541 - val_acc: 0.8823\n",
            "Epoch 34/65\n",
            "123/123 [==============================] - 26s 211ms/step - loss: 0.0380 - acc: 0.9142 - val_loss: 0.0531 - val_acc: 0.8807\n",
            "Epoch 35/65\n",
            "123/123 [==============================] - 26s 211ms/step - loss: 0.0359 - acc: 0.9196 - val_loss: 0.0526 - val_acc: 0.8841\n",
            "Epoch 36/65\n",
            "123/123 [==============================] - 26s 211ms/step - loss: 0.0370 - acc: 0.9163 - val_loss: 0.0528 - val_acc: 0.8837\n",
            "Epoch 37/65\n",
            "123/123 [==============================] - 26s 211ms/step - loss: 0.0361 - acc: 0.9191 - val_loss: 0.0538 - val_acc: 0.8831\n",
            "Epoch 38/65\n",
            "123/123 [==============================] - 26s 211ms/step - loss: 0.0360 - acc: 0.9185 - val_loss: 0.0559 - val_acc: 0.8755\n",
            "Epoch 39/65\n",
            "123/123 [==============================] - 26s 211ms/step - loss: 0.0358 - acc: 0.9188 - val_loss: 0.0520 - val_acc: 0.8853\n",
            "Epoch 40/65\n",
            "123/123 [==============================] - 26s 212ms/step - loss: 0.0354 - acc: 0.9197 - val_loss: 0.0529 - val_acc: 0.8840\n",
            "Epoch 41/65\n",
            "123/123 [==============================] - 26s 211ms/step - loss: 0.0343 - acc: 0.9223 - val_loss: 0.0530 - val_acc: 0.8846\n",
            "Epoch 42/65\n",
            "123/123 [==============================] - 26s 211ms/step - loss: 0.0348 - acc: 0.9213 - val_loss: 0.0521 - val_acc: 0.8845\n",
            "Epoch 43/65\n",
            "123/123 [==============================] - 26s 211ms/step - loss: 0.0341 - acc: 0.9229 - val_loss: 0.0526 - val_acc: 0.8837\n",
            "Epoch 44/65\n",
            "123/123 [==============================] - 26s 211ms/step - loss: 0.0346 - acc: 0.9213 - val_loss: 0.0528 - val_acc: 0.8872\n",
            "Epoch 45/65\n",
            "123/123 [==============================] - 26s 211ms/step - loss: 0.0346 - acc: 0.9212 - val_loss: 0.0525 - val_acc: 0.8871\n",
            "Epoch 46/65\n",
            "123/123 [==============================] - 26s 211ms/step - loss: 0.0337 - acc: 0.9232 - val_loss: 0.0528 - val_acc: 0.8854\n",
            "Epoch 47/65\n",
            "123/123 [==============================] - 26s 211ms/step - loss: 0.0338 - acc: 0.9234 - val_loss: 0.0543 - val_acc: 0.8878\n",
            "Epoch 48/65\n",
            "123/123 [==============================] - 26s 211ms/step - loss: 0.0333 - acc: 0.9242 - val_loss: 0.0529 - val_acc: 0.8875\n",
            "Epoch 49/65\n",
            "123/123 [==============================] - 26s 211ms/step - loss: 0.0337 - acc: 0.9233 - val_loss: 0.0525 - val_acc: 0.8883\n",
            "Epoch 50/65\n",
            "123/123 [==============================] - 26s 211ms/step - loss: 0.0332 - acc: 0.9242 - val_loss: 0.0523 - val_acc: 0.8903\n",
            "Epoch 51/65\n",
            "123/123 [==============================] - 26s 211ms/step - loss: 0.0331 - acc: 0.9248 - val_loss: 0.0517 - val_acc: 0.8884\n",
            "Epoch 52/65\n",
            "123/123 [==============================] - 26s 211ms/step - loss: 0.0326 - acc: 0.9256 - val_loss: 0.0514 - val_acc: 0.8910\n",
            "Epoch 53/65\n",
            "123/123 [==============================] - 26s 211ms/step - loss: 0.0319 - acc: 0.9274 - val_loss: 0.0526 - val_acc: 0.8881\n",
            "Epoch 54/65\n",
            "123/123 [==============================] - 26s 211ms/step - loss: 0.0329 - acc: 0.9249 - val_loss: 0.0528 - val_acc: 0.8905\n",
            "Epoch 55/65\n",
            "123/123 [==============================] - 26s 211ms/step - loss: 0.0333 - acc: 0.9241 - val_loss: 0.0536 - val_acc: 0.8853\n",
            "Epoch 56/65\n",
            "123/123 [==============================] - 26s 212ms/step - loss: 0.0324 - acc: 0.9263 - val_loss: 0.0524 - val_acc: 0.8916\n",
            "Epoch 57/65\n",
            "123/123 [==============================] - 26s 211ms/step - loss: 0.0316 - acc: 0.9281 - val_loss: 0.0522 - val_acc: 0.8898\n",
            "Epoch 58/65\n",
            "123/123 [==============================] - 26s 211ms/step - loss: 0.0324 - acc: 0.9258 - val_loss: 0.0523 - val_acc: 0.8905\n",
            "Epoch 59/65\n",
            "123/123 [==============================] - 26s 211ms/step - loss: 0.0315 - acc: 0.9282 - val_loss: 0.0528 - val_acc: 0.8890\n",
            "Epoch 60/65\n",
            "123/123 [==============================] - 26s 211ms/step - loss: 0.0309 - acc: 0.9297 - val_loss: 0.0521 - val_acc: 0.8901\n",
            "Epoch 61/65\n",
            "123/123 [==============================] - 26s 211ms/step - loss: 0.0324 - acc: 0.9257 - val_loss: 0.0538 - val_acc: 0.8913\n",
            "Epoch 62/65\n",
            "123/123 [==============================] - 26s 211ms/step - loss: 0.0322 - acc: 0.9263 - val_loss: 0.0532 - val_acc: 0.8901\n",
            "Epoch 63/65\n",
            "123/123 [==============================] - 26s 211ms/step - loss: 0.0309 - acc: 0.9295 - val_loss: 0.0526 - val_acc: 0.8920\n",
            "Epoch 64/65\n",
            "123/123 [==============================] - 26s 211ms/step - loss: 0.0312 - acc: 0.9286 - val_loss: 0.0503 - val_acc: 0.8926\n",
            "Epoch 65/65\n",
            "123/123 [==============================] - 26s 211ms/step - loss: 0.0320 - acc: 0.9265 - val_loss: 0.0507 - val_acc: 0.8923\n"
          ],
          "name": "stdout"
        },
        {
          "output_type": "execute_result",
          "data": {
            "text/plain": [
              "<tensorflow.python.keras.callbacks.History at 0x7f1a502aaf60>"
            ]
          },
          "metadata": {
            "tags": []
          },
          "execution_count": 4
        }
      ]
    },
    {
      "cell_type": "code",
      "metadata": {
        "id": "Dga546dkhxOJ"
      },
      "source": [
        "model.optimizer.learning_rate = 0.2"
      ],
      "execution_count": 5,
      "outputs": []
    },
    {
      "cell_type": "code",
      "metadata": {
        "id": "mH31tvJSibI1",
        "colab": {
          "base_uri": "https://localhost:8080/"
        },
        "outputId": "f6d149b4-4ac6-4f4d-c008-7cb965e34f94"
      },
      "source": [
        "model.fit(train_datagen.flow(train_x, train_y, batch_size=3), epochs=30, shuffle=True, validation_data=(test_x, test_y))"
      ],
      "execution_count": 6,
      "outputs": [
        {
          "output_type": "stream",
          "text": [
            "Epoch 1/30\n",
            "123/123 [==============================] - 26s 214ms/step - loss: 0.0306 - acc: 0.9301 - val_loss: 0.0518 - val_acc: 0.8936\n",
            "Epoch 2/30\n",
            "123/123 [==============================] - 26s 211ms/step - loss: 0.0305 - acc: 0.9304 - val_loss: 0.0517 - val_acc: 0.8932\n",
            "Epoch 3/30\n",
            "123/123 [==============================] - 26s 211ms/step - loss: 0.0304 - acc: 0.9306 - val_loss: 0.0521 - val_acc: 0.8924\n",
            "Epoch 4/30\n",
            "123/123 [==============================] - 26s 210ms/step - loss: 0.0303 - acc: 0.9308 - val_loss: 0.0539 - val_acc: 0.8907\n",
            "Epoch 5/30\n",
            "123/123 [==============================] - 26s 211ms/step - loss: 0.0302 - acc: 0.9310 - val_loss: 0.0531 - val_acc: 0.8924\n",
            "Epoch 6/30\n",
            "123/123 [==============================] - 26s 211ms/step - loss: 0.0302 - acc: 0.9310 - val_loss: 0.0525 - val_acc: 0.8929\n",
            "Epoch 7/30\n",
            "123/123 [==============================] - 26s 210ms/step - loss: 0.0301 - acc: 0.9313 - val_loss: 0.0533 - val_acc: 0.8924\n",
            "Epoch 8/30\n",
            "123/123 [==============================] - 26s 211ms/step - loss: 0.0300 - acc: 0.9315 - val_loss: 0.0530 - val_acc: 0.8923\n",
            "Epoch 9/30\n",
            "123/123 [==============================] - 26s 211ms/step - loss: 0.0299 - acc: 0.9315 - val_loss: 0.0522 - val_acc: 0.8944\n",
            "Epoch 10/30\n",
            "123/123 [==============================] - 26s 211ms/step - loss: 0.0299 - acc: 0.9317 - val_loss: 0.0519 - val_acc: 0.8945\n",
            "Epoch 11/30\n",
            "123/123 [==============================] - 26s 211ms/step - loss: 0.0298 - acc: 0.9318 - val_loss: 0.0517 - val_acc: 0.8940\n",
            "Epoch 12/30\n",
            "123/123 [==============================] - 26s 211ms/step - loss: 0.0298 - acc: 0.9319 - val_loss: 0.0525 - val_acc: 0.8935\n",
            "Epoch 13/30\n",
            "123/123 [==============================] - 26s 211ms/step - loss: 0.0297 - acc: 0.9319 - val_loss: 0.0524 - val_acc: 0.8937\n",
            "Epoch 14/30\n",
            "123/123 [==============================] - 26s 211ms/step - loss: 0.0297 - acc: 0.9321 - val_loss: 0.0531 - val_acc: 0.8930\n",
            "Epoch 15/30\n",
            "123/123 [==============================] - 26s 211ms/step - loss: 0.0296 - acc: 0.9322 - val_loss: 0.0530 - val_acc: 0.8934\n",
            "Epoch 16/30\n",
            "123/123 [==============================] - 26s 211ms/step - loss: 0.0296 - acc: 0.9324 - val_loss: 0.0525 - val_acc: 0.8939\n",
            "Epoch 17/30\n",
            "123/123 [==============================] - 26s 211ms/step - loss: 0.0295 - acc: 0.9325 - val_loss: 0.0536 - val_acc: 0.8928\n",
            "Epoch 18/30\n",
            "123/123 [==============================] - 26s 211ms/step - loss: 0.0295 - acc: 0.9325 - val_loss: 0.0523 - val_acc: 0.8948\n",
            "Epoch 19/30\n",
            "123/123 [==============================] - 26s 211ms/step - loss: 0.0294 - acc: 0.9327 - val_loss: 0.0533 - val_acc: 0.8930\n",
            "Epoch 20/30\n",
            "123/123 [==============================] - 26s 210ms/step - loss: 0.0293 - acc: 0.9328 - val_loss: 0.0537 - val_acc: 0.8934\n",
            "Epoch 21/30\n",
            "123/123 [==============================] - 26s 211ms/step - loss: 0.0293 - acc: 0.9328 - val_loss: 0.0522 - val_acc: 0.8943\n",
            "Epoch 22/30\n",
            "123/123 [==============================] - 26s 210ms/step - loss: 0.0292 - acc: 0.9331 - val_loss: 0.0532 - val_acc: 0.8934\n",
            "Epoch 23/30\n",
            "123/123 [==============================] - 26s 211ms/step - loss: 0.0292 - acc: 0.9331 - val_loss: 0.0533 - val_acc: 0.8931\n",
            "Epoch 24/30\n",
            "123/123 [==============================] - 26s 211ms/step - loss: 0.0291 - acc: 0.9332 - val_loss: 0.0531 - val_acc: 0.8931\n",
            "Epoch 25/30\n",
            "123/123 [==============================] - 26s 211ms/step - loss: 0.0291 - acc: 0.9333 - val_loss: 0.0534 - val_acc: 0.8937\n",
            "Epoch 26/30\n",
            "123/123 [==============================] - 26s 211ms/step - loss: 0.0290 - acc: 0.9335 - val_loss: 0.0526 - val_acc: 0.8952\n",
            "Epoch 27/30\n",
            "123/123 [==============================] - 26s 211ms/step - loss: 0.0290 - acc: 0.9336 - val_loss: 0.0538 - val_acc: 0.8926\n",
            "Epoch 28/30\n",
            "123/123 [==============================] - 26s 211ms/step - loss: 0.0289 - acc: 0.9337 - val_loss: 0.0532 - val_acc: 0.8953\n",
            "Epoch 29/30\n",
            "123/123 [==============================] - 26s 211ms/step - loss: 0.0289 - acc: 0.9338 - val_loss: 0.0526 - val_acc: 0.8961\n",
            "Epoch 30/30\n",
            "123/123 [==============================] - 26s 211ms/step - loss: 0.0288 - acc: 0.9338 - val_loss: 0.0529 - val_acc: 0.8946\n"
          ],
          "name": "stdout"
        },
        {
          "output_type": "execute_result",
          "data": {
            "text/plain": [
              "<tensorflow.python.keras.callbacks.History at 0x7f1a500404e0>"
            ]
          },
          "metadata": {
            "tags": []
          },
          "execution_count": 6
        }
      ]
    },
    {
      "cell_type": "code",
      "metadata": {
        "id": "_cCxY0DZFp-a"
      },
      "source": [
        "model.optimizer.learning_rate = 0.0075"
      ],
      "execution_count": 7,
      "outputs": []
    },
    {
      "cell_type": "code",
      "metadata": {
        "colab": {
          "base_uri": "https://localhost:8080/"
        },
        "id": "err8ESUTFuqP",
        "outputId": "7aac94c6-1b78-484e-aa92-b280e19fff3f"
      },
      "source": [
        "model.fit(train_datagen.flow(train_x, train_y, batch_size=10), epochs=10, shuffle=True, validation_data=(test_x, test_y))"
      ],
      "execution_count": 9,
      "outputs": [
        {
          "output_type": "stream",
          "text": [
            "Epoch 1/10\n",
            "37/37 [==============================] - 18s 490ms/step - loss: 0.0284 - acc: 0.9349 - val_loss: 0.0529 - val_acc: 0.8948\n",
            "Epoch 2/10\n",
            "37/37 [==============================] - 17s 470ms/step - loss: 0.0284 - acc: 0.9351 - val_loss: 0.0529 - val_acc: 0.8949\n",
            "Epoch 3/10\n",
            "37/37 [==============================] - 18s 486ms/step - loss: 0.0284 - acc: 0.9349 - val_loss: 0.0529 - val_acc: 0.8949\n",
            "Epoch 4/10\n",
            "37/37 [==============================] - 17s 470ms/step - loss: 0.0284 - acc: 0.9350 - val_loss: 0.0529 - val_acc: 0.8950\n",
            "Epoch 5/10\n",
            "37/37 [==============================] - 17s 470ms/step - loss: 0.0284 - acc: 0.9350 - val_loss: 0.0529 - val_acc: 0.8949\n",
            "Epoch 6/10\n",
            "37/37 [==============================] - 17s 469ms/step - loss: 0.0283 - acc: 0.9351 - val_loss: 0.0529 - val_acc: 0.8949\n",
            "Epoch 7/10\n",
            "37/37 [==============================] - 17s 469ms/step - loss: 0.0283 - acc: 0.9349 - val_loss: 0.0529 - val_acc: 0.8949\n",
            "Epoch 8/10\n",
            "37/37 [==============================] - 17s 471ms/step - loss: 0.0284 - acc: 0.9350 - val_loss: 0.0529 - val_acc: 0.8949\n",
            "Epoch 9/10\n",
            "37/37 [==============================] - 17s 471ms/step - loss: 0.0283 - acc: 0.9350 - val_loss: 0.0529 - val_acc: 0.8948\n",
            "Epoch 10/10\n",
            "37/37 [==============================] - 17s 470ms/step - loss: 0.0283 - acc: 0.9350 - val_loss: 0.0530 - val_acc: 0.8948\n"
          ],
          "name": "stdout"
        },
        {
          "output_type": "execute_result",
          "data": {
            "text/plain": [
              "<tensorflow.python.keras.callbacks.History at 0x7f1a6e525ef0>"
            ]
          },
          "metadata": {
            "tags": []
          },
          "execution_count": 9
        }
      ]
    },
    {
      "cell_type": "code",
      "metadata": {
        "id": "xtbKyDUbbuJt",
        "colab": {
          "base_uri": "https://localhost:8080/",
          "height": 288
        },
        "outputId": "6d927017-8e23-40ab-80d8-3b9ec0e5b70b"
      },
      "source": [
        "import matplotlib.pyplot as plt\n",
        "pred = model.predict(np.expand_dims(test_x[0], axis=0))[0].argmax(axis=2)\n",
        "plt.imshow(pred)"
      ],
      "execution_count": 10,
      "outputs": [
        {
          "output_type": "execute_result",
          "data": {
            "text/plain": [
              "<matplotlib.image.AxesImage at 0x7f1a6e3cf438>"
            ]
          },
          "metadata": {
            "tags": []
          },
          "execution_count": 10
        },
        {
          "output_type": "display_data",
          "data": {
            "image/png": "[encoded data removed]",
            "text/plain": [
              "<Figure size 432x288 with 1 Axes>"
            ]
          },
          "metadata": {
            "tags": [],
            "needs_background": "light"
          }
        }
      ]
    },
    {
      "cell_type": "code",
      "metadata": {
        "id": "M2uea1TAudVv",
        "colab": {
          "base_uri": "https://localhost:8080/",
          "height": 288
        },
        "outputId": "75aaa77d-d49a-45b0-aabb-b531d603224e"
      },
      "source": [
        "plt.imshow(test_y[0].argmax(axis=2))"
      ],
      "execution_count": 11,
      "outputs": [
        {
          "output_type": "execute_result",
          "data": {
            "text/plain": [
              "<matplotlib.image.AxesImage at 0x7f1a6e363b00>"
            ]
          },
          "metadata": {
            "tags": []
          },
          "execution_count": 11
        },
        {
          "output_type": "display_data",
          "data": {
            "image/png": "[encoded data removed]",
            "text/plain": [
              "<Figure size 432x288 with 1 Axes>"
            ]
          },
          "metadata": {
            "tags": [],
            "needs_background": "light"
          }
        }
      ]
    },
    {
      "cell_type": "markdown",
      "metadata": {
        "id": "mrW3nTT8yQr6"
      },
      "source": [
        "## Save the trained model"
      ]
    },
    {
      "cell_type": "code",
      "metadata": {
        "id": "aBFX_N0oQZk0"
      },
      "source": [
        "model.save('model_410952', save_format='h5')"
      ],
      "execution_count": 14,
      "outputs": []
    },
    {
      "cell_type": "markdown",
      "metadata": {
        "id": "IUdLGW5DyWeX"
      },
      "source": [
        "## Load the trained model and evaluate it on the test set"
      ]
    },
    {
      "cell_type": "code",
      "metadata": {
        "id": "PmgBpufKQXKM"
      },
      "source": [
        "from tensorflow.keras.models import load_model\r\n",
        "model_r = load_model('model_410952')"
      ],
      "execution_count": 16,
      "outputs": []
    },
    {
      "cell_type": "code",
      "metadata": {
        "id": "ItzzaaO_OLO5"
      },
      "source": [
        "pixel_acc = 0\r\n",
        "for i in range(len(test_y)):\r\n",
        "  pixel_acc += (model_r.predict(np.expand_dims(test_x[i], axis=0))[0].argmax(axis=2)==test_y[i].argmax(axis=2)).sum()/(360*480)\r\n",
        "pixel_acc = pixel_acc/len(test_y)"
      ],
      "execution_count": 17,
      "outputs": []
    },
    {
      "cell_type": "code",
      "metadata": {
        "id": "xfjMraJmyWKY",
        "colab": {
          "base_uri": "https://localhost:8080/"
        },
        "outputId": "f90ac4d6-473d-4f72-f73e-e0cfa4fba7d8"
      },
      "source": [
        "pixel_acc"
      ],
      "execution_count": 18,
      "outputs": [
        {
          "output_type": "execute_result",
          "data": {
            "text/plain": [
              "0.8947762536670336"
            ]
          },
          "metadata": {
            "tags": []
          },
          "execution_count": 18
        }
      ]
    },
    {
      "cell_type": "markdown",
      "metadata": {
        "id": "KjWwHzXOzFts"
      },
      "source": [
        "## Submission\n",
        "You need to send by the deadline:\n",
        "- the trained model with architecture and weights (as YourFirstName_YourSourname_Indeks.h5 file)\n",
        "- and jupyter notebook (ipynb file) with all outputs and training logs (as YourFirstName_YourSourname_Indeks.ipynb file). The trained model should be reproducible by running Runtime -> Run all.\n",
        "\n",
        "You should be able to train the model with batch_size=3. In case of problems, feel free to change Conv2D 4096->2048. Such an architecture should obtain at least 89.5% pixel accuracy on the test set.\n",
        "\n",
        "Please remember that typically we use different metrics for semantic segmentation."
      ]
    }
  ]
}